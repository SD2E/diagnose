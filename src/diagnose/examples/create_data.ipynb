{
 "cells": [
  {
   "cell_type": "code",
   "execution_count": 1,
   "metadata": {},
   "outputs": [],
   "source": [
    "import pandas as pd\n",
    "import numpy as np"
   ]
  },
  {
   "cell_type": "code",
   "execution_count": 5,
   "metadata": {},
   "outputs": [],
   "source": [
    "# code to produce the simulated data set\n",
    "data = pd.DataFrame(\n",
    "            {\"group\": ['example0'] * 50 + ['example1'] * 50, 'catvar1': ['a'] * 25 + ['b'] * 25 + ['c'] * 25 +\n",
    "            ['d'] * 25, 'catvar2': ['e', 'f'] * 50,'catvar3': ['g', 'h'] * 25 + ['g'] * 50, \"contvar1\": np.random.randn(100), \n",
    "             \"contvar2\": 2*np.r_[np.linspace(0, 1, 50), np.linspace(0, 1, 50)], \"score\": np.r_[np.linspace(0, 1, 50), np.linspace(0, 1, 50)]})\n",
    "data.index = data.index.rename('sample_id')\n",
    "\n",
    "data.to_csv('example_data.csv', sep='\\t')"
   ]
  },
  {
   "cell_type": "code",
   "execution_count": 3,
   "metadata": {},
   "outputs": [],
   "source": [
    "# code to produce the simulated metadata set\n",
    "data = pd.DataFrame(\n",
    "            {'catvar2': ['e', 'f'] * 50,'catvar3': ['g', 'h'] * 25 + ['g'] * 50,'catvar4': ['i'] * 100})\n",
    "data.index = data.index.rename('sample_id')\n",
    "\n",
    "data.to_csv('example_metadata.csv', sep='\\t')"
   ]
  },
  {
   "cell_type": "code",
   "execution_count": 18,
   "metadata": {},
   "outputs": [
    {
     "data": {
      "text/plain": [
       "sample_id\n",
       "0     g\n",
       "1     h\n",
       "2     g\n",
       "3     h\n",
       "4     g\n",
       "     ..\n",
       "95    g\n",
       "96    g\n",
       "97    g\n",
       "98    g\n",
       "99    g\n",
       "Name: catvar3, Length: 100, dtype: object"
      ]
     },
     "execution_count": 18,
     "metadata": {},
     "output_type": "execute_result"
    }
   ],
   "source": [
    "data.catvar3"
   ]
  },
  {
   "cell_type": "code",
   "execution_count": 6,
   "metadata": {},
   "outputs": [
    {
     "data": {
      "text/plain": [
       "(0.0, 1.0, 0, array([[50.]]))"
      ]
     },
     "execution_count": 6,
     "metadata": {},
     "output_type": "execute_result"
    }
   ],
   "source": [
    "import scipy.stats as stats\n",
    "data_df = data[data.group=='example1']\n",
    "i = ('catvar3', 'catvar3')\n",
    "ct = pd.crosstab(data_df[i[0]].astype('str'), data_df[i[1]].astype('str'))\n",
    "chi2_t = stats.chi2_contingency(ct)\n",
    "chi2_t"
   ]
  }
 ],
 "metadata": {
  "kernelspec": {
   "display_name": "Python 3 (ipykernel)",
   "language": "python",
   "name": "python3"
  },
  "language_info": {
   "codemirror_mode": {
    "name": "ipython",
    "version": 3
   },
   "file_extension": ".py",
   "mimetype": "text/x-python",
   "name": "python",
   "nbconvert_exporter": "python",
   "pygments_lexer": "ipython3",
   "version": "3.9.7"
  }
 },
 "nbformat": 4,
 "nbformat_minor": 2
}
